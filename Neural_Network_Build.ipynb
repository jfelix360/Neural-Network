{
  "nbformat": 4,
  "nbformat_minor": 0,
  "metadata": {
    "colab": {
      "name": "STA4364FinalProblem2.ipynb",
      "provenance": [],
      "collapsed_sections": []
    },
    "kernelspec": {
      "name": "python3",
      "display_name": "Python 3"
    },
    "accelerator": "GPU"
  },
  "cells": [
    {
      "cell_type": "code",
      "metadata": {
        "id": "CXiaZgoVfEAz"
      },
      "source": [
        "COLAB_PATH = '/content/drive/My Drive/Colab Notebooks/'"
      ],
      "execution_count": null,
      "outputs": []
    },
    {
      "cell_type": "markdown",
      "metadata": {
        "id": "eE63oUvXtjgL"
      },
      "source": [
        "# **Load the Models**"
      ]
    },
    {
      "cell_type": "code",
      "metadata": {
        "id": "H21WYgDYwciU"
      },
      "source": [
        "# general purpose pytorch functions\n",
        "import torch as t\n",
        "# nn submodule for Neural Network structures\n",
        "import torch.nn as nn\n",
        "# function submodule for torch functions\n",
        "import torch.nn.functional as F\n",
        "\n",
        "# torchvision object to download image datasets\n",
        "import torchvision.datasets as datasets\n",
        "# torchvision object to load images\n",
        "from torch.utils.data import DataLoader\n",
        "# image transformations from torchvision\n",
        "import torchvision.transforms as tr\n",
        "\n",
        "# matplotlib to plot figures\n",
        "import matplotlib.pyplot as plt\n",
        "\n",
        "# package for manipulating files and directories\n",
        "import os\n",
        "# pacakge for dealing with tabular data\n",
        "import pandas as pd\n",
        "# package for math ops\n",
        "import math\n",
        "# numpy for array manipulation\n",
        "import numpy as np"
      ],
      "execution_count": null,
      "outputs": []
    },
    {
      "cell_type": "markdown",
      "metadata": {
        "id": "sgtS4D1Q1s9J"
      },
      "source": [
        "# **Load the Data**"
      ]
    },
    {
      "cell_type": "code",
      "metadata": {
        "id": "PDhKSPAB0ZgU"
      },
      "source": [
        "# read in data\n",
        "bank = pd.read_csv('/content/drive/MyDrive/Colab Notebooks/bank_data.csv')\n",
        "\n",
        "# convert columns to categorical\n",
        "# df[name] similar to the df$name notation\n",
        "for col_name in ['job', 'marital', 'education', 'default', 'housing', 'loan', 'contact', 'month', 'poutcome', 'y']:\n",
        "    bank[col_name] = bank[col_name].astype('category')\n",
        "\n",
        "# split into target vector and feature matrix (split X and Y)\n",
        "bank_feats = bank.drop(columns=['y'])\n",
        "bank_target = np.array(bank['y'])\n",
        "\n",
        "# convert category variables to dummy variable encoding (similar to the model.matrix())\n",
        "# can use drop_first=True in get_dummies to get rid of redundant first encoding\n",
        "bank_feats = pd.get_dummies(bank_feats, drop_first=True)\n",
        "\n",
        "bank_target = pd.get_dummies(bank_target, drop_first=True)\n",
        "bank_target = np.asarray(bank_target).reshape(-1)\n",
        "\n",
        "\n",
        "# split into training and test set (scikitlearn)\n",
        "from sklearn.model_selection import train_test_split\n",
        "bank_feat_train, bank_feat_test, bank_resp_train, bank_resp_test =\\\n",
        "    train_test_split(bank_feats, bank_target, test_size=0.25, random_state=123)\n",
        "\n",
        "# scale columns (mean 0, var 1)\n",
        "from sklearn.preprocessing import StandardScaler\n",
        "scaler = StandardScaler()\n",
        "\n",
        "# get mean and standard deviation for each column according to train data\n",
        "scaler.fit(bank_feat_train)\n",
        "# scale columns of train and test data\n",
        "bank_feat_train = scaler.transform(bank_feat_train)\n",
        "bank_feat_test = scaler.transform(bank_feat_test)"
      ],
      "execution_count": 80,
      "outputs": []
    },
    {
      "cell_type": "markdown",
      "metadata": {
        "id": "1MiykERq2Exe"
      },
      "source": [
        "# **Parameters for Learning**"
      ]
    },
    {
      "cell_type": "code",
      "metadata": {
        "id": "VQfzLy1Bfi1p"
      },
      "source": [
        "####################\n",
        "# ## PARAMETERS ## #\n",
        "####################\n",
        "\n",
        "# dictionary for experiment parameters\n",
        "# can access using []. for examples, config['num_epochs']\n",
        "config = {\n",
        "    # foler to save results\n",
        "    'exp_dir': COLAB_PATH + 'final_3/',\n",
        "\n",
        "    # number of epochs (one epoch is one sweep through all training images, in a random order of batches)\n",
        "    'num_epochs': 1000,\n",
        "\n",
        "    # batch size (number of images to use for each stochastic gradient learning iteration)\n",
        "    'batch_size': 32\n",
        "}"
      ],
      "execution_count": 64,
      "outputs": []
    },
    {
      "cell_type": "markdown",
      "metadata": {
        "id": "-OyJlwlL3M7G"
      },
      "source": [
        "# **Build the Network**"
      ]
    },
    {
      "cell_type": "code",
      "metadata": {
        "id": "FQmyysMP2meN"
      },
      "source": [
        "#################\n",
        "# ## NETWORK ## #\n",
        "#################\n",
        "\n",
        "class ClfBank(nn.Module):\n",
        "    def __init__(self, in_nodes=42, num_classes=2):\n",
        "        # initialize the parent class of ClfMNIST, the nn.Module class\n",
        "        # if you are building a child class, generally initialize parent class firs\n",
        "        super(ClfBank, self).__init__()\n",
        "\n",
        "        # fully connected layers\n",
        "        self.fc1 = nn.Linear(in_features=in_nodes, out_features=200)\n",
        "        self.fc2 = nn.Linear(in_features=200, out_features=75)\n",
        "        self.fc3 = nn.Linear(in_features=75, out_features=num_classes)\n",
        "\n",
        "        # batch norm layers\n",
        "        self.bn_fc1 = nn.BatchNorm1d(200)\n",
        "        self.bn_fc2 = nn.BatchNorm1d(75)\n",
        "\n",
        "        # collect all fc layers with nn.Sequential\n",
        "        self.model_fc = nn.Sequential(\n",
        "            self.fc1,\n",
        "            self.bn_fc1,\n",
        "            nn.ReLU(),\n",
        "            self.fc2,\n",
        "            self.bn_fc2,\n",
        "            nn.ReLU(),\n",
        "            self.fc3\n",
        "        )\n",
        "\n",
        "    def forward(self, x):\n",
        "        logits = self.model_fc(x)\n",
        "        return logits\n"
      ],
      "execution_count": 65,
      "outputs": []
    },
    {
      "cell_type": "markdown",
      "metadata": {
        "id": "gOfvAd5ExEwP"
      },
      "source": [
        "# **Learning Process**\n"
      ]
    },
    {
      "cell_type": "code",
      "metadata": {
        "id": "M_Qxi8n3xDwe"
      },
      "source": [
        "###############\n",
        "# ## SETUP ## #\n",
        "###############\n",
        "\n",
        "# make folder to save dataset\n",
        "if not os.path.exists(config['exp_dir']):\n",
        "    os.makedirs(config['exp_dir'])\n",
        "\n",
        "print('Setting up network and optimizer...')\n",
        "# network structure and weight init, put network on gpu with .cuda()\n",
        "clf = ClfBank().cuda()\n",
        "print(clf)\n",
        "\n",
        "# initialize optim\n",
        "# Adam optimizer is a widely used variant of SGD that scales learning rates for each parameter\n",
        "# 1e-4 is good default value for the learning rate\n",
        "optim = t.optim.Adam(clf.parameters(), lr=1e-4)\n",
        "\n",
        "# loss criterion for logits\n",
        "# maximum likelihood estimate for modeling categorical data y, the labels of the images\n",
        "criterion = nn.CrossEntropyLoss()\n",
        "\n",
        "\n",
        "###############################################\n",
        "# ## FUNCTIONS FOR TRAIN AND TEST ## #\n",
        "###############################################\n",
        "\n",
        "# train model for single epoch through data\n",
        "def train(epoch):\n",
        "    # put the classifier in train mode\n",
        "    # this unfreezes the BatchNorm layers to adapt to the data and new weights\n",
        "    clf.train()\n",
        "\n",
        "    # records for this epoch\n",
        "    train_loss = 0\n",
        "    correct = 0\n",
        "    total = 0\n",
        "\n",
        "    # shuffle the training data\n",
        "    rand_inds = np.random.permutation(np.arange(bank_feat_train.shape[0]))\n",
        "    feat_shuffle = bank_feat_train[rand_inds]\n",
        "    resp_shuffle = bank_resp_train[rand_inds]\n",
        "\n",
        "    # loop over batches of data\n",
        "    for batch in range(math.ceil(float(bank_feat_train.shape[0]) / float(config['batch_size']))):\n",
        "        # put states on gpu\n",
        "        X_cpu = feat_shuffle[(batch*config['batch_size']):min((batch+1)*config['batch_size'], bank_feat_train.shape[0])]\n",
        "        X_train = t.Tensor(X_cpu).cuda()\n",
        "        y_cpu = resp_shuffle[(batch*config['batch_size']):min((batch+1)*config['batch_size'], bank_feat_train.shape[0])]\n",
        "        y_train = t.Tensor(y_cpu).long().cuda()\n",
        "\n",
        "        # logits for prediction and loss for weight update \n",
        "        # forward pass through network\n",
        "        logits = clf.forward(X_train)\n",
        "        # compare network output to true 1-hot encodings from y\n",
        "        loss = criterion(logits, y_train)\n",
        "\n",
        "        # update classifier weights\n",
        "        # first reset the gradient in the optimizer to 0 (don't forget to use this step before doing a backward pass)\n",
        "        optim.zero_grad()\n",
        "        # backward pass\n",
        "        loss.backward()\n",
        "        # use the optimizer to update the network weights\n",
        "        optim.step()\n",
        "\n",
        "        # record batch info\n",
        "        # cross entropy loss that is being minimized\n",
        "        train_loss += loss.item()\n",
        "        # predictions for class (the index that maximizes the probability/minimizes the logits)\n",
        "        _, y_pred = t.max(logits.detach(), 1)\n",
        "        # update number of correct predictions\n",
        "        correct += t.eq(y_pred, y_train).sum().cpu()\n",
        "        # update total number of predictions\n",
        "        total += y_train.nelement()\n",
        "\n",
        "    # get accuracy and loss for the epoch\n",
        "    train_acc = 100 * float(correct) / float(total)\n",
        "    train_loss = train_loss / (batch+1)\n",
        "\n",
        "    return train_acc, train_loss\n",
        "\n",
        "# test model on withheld data\n",
        "def test(epoch):\n",
        "    # put the classifier in eval mode\n",
        "    # this freezes the BatchNorm layers give deterministic output\n",
        "    clf.eval()\n",
        "\n",
        "    # records for this epoch\n",
        "    test_loss = 0\n",
        "    correct = 0\n",
        "    total = 0\n",
        "\n",
        "    # loop over batches of test data\n",
        "    for batch in range(math.ceil(float(bank_feat_test.shape[0]) / float(config['batch_size']))):\n",
        "        # put states on gpu\n",
        "        X_cpu = bank_feat_test[(batch*config['batch_size']):min((batch+1)*config['batch_size'], bank_feat_test.shape[0])]\n",
        "        X_test = t.Tensor(X_cpu).cuda()\n",
        "        y_cpu = bank_resp_test[(batch*config['batch_size']):min((batch+1)*config['batch_size'], bank_feat_test.shape[0])]\n",
        "        y_test = t.Tensor(y_cpu).long().cuda()\n",
        "\n",
        "        # check test images\n",
        "        with t.no_grad():\n",
        "\n",
        "            # forward pass and get loss\n",
        "            logits = clf(X_test)\n",
        "            loss = criterion(logits, y_test)\n",
        "\n",
        "            # record batch info (same as before)\n",
        "            test_loss += loss.item()\n",
        "            _, y_pred = t.max(logits, 1)\n",
        "            correct += t.eq(y_pred, y_test).sum().cpu()\n",
        "            total += y_test.nelement()\n",
        "\n",
        "    # get and print test accuracy\n",
        "    test_acc = 100 * float(correct) / float(total)\n",
        "    test_loss = test_loss / (batch+1)\n",
        "\n",
        "    return test_acc, test_loss\n",
        "\n",
        "\n",
        "#######################\n",
        "# ## LEARNING LOOP # ##\n",
        "#######################\n",
        "\n",
        "# empty list for plotting results\n",
        "tr_acc_rec = []\n",
        "tr_loss_rec = []\n",
        "val_acc_rec = []\n",
        "val_loss_rec = []\n",
        "\n",
        "print('\\nTraining has begun.')\n",
        "for epoch in range(config['num_epochs']):\n",
        "    print('Epoch {} of {}'.format(epoch+1, config['num_epochs']))\n",
        "\n",
        "    # update model using train data\n",
        "    tr_acc, tr_loss = train(epoch)\n",
        "    # update record\n",
        "    tr_acc_rec += [tr_acc]\n",
        "    tr_loss_rec += [tr_loss]\n",
        "\n",
        "    # evaluate test data\n",
        "    val_acc, val_loss = test(epoch)\n",
        "    # update record\n",
        "    val_acc_rec += [val_acc]\n",
        "    val_loss_rec += [val_loss]\n",
        "\n",
        "    # save network weights checkpoint\n",
        "    t.save(clf.state_dict(), config['exp_dir'] + 'clf.pth')\n",
        "    # save optim\n",
        "    t.save(optim.state_dict(), config['exp_dir'] + 'optim.pth')\n",
        "\n",
        "    # save accuracy plot for training and testing data\n",
        "    plt.plot(list(range(1, epoch+2)), tr_acc_rec, label='training data')\n",
        "    plt.plot(list(range(1, epoch+2)), val_acc_rec, label='validation')\n",
        "    plt.legend(loc='lower right')\n",
        "    plt.title('Accuracy over Epochs')\n",
        "    plt.xlabel('Epoch')\n",
        "    plt.ylabel('Accuracy')\n",
        "    plt.show(config['exp_dir'] + 'acc_plot.png')\n",
        "    plt.close()\n",
        "\n",
        "    # save loss plot for training and testing data\n",
        "    plt.plot(list(range(1, epoch+2)), tr_loss_rec, label='training data')\n",
        "    plt.plot(list(range(1, epoch+2)), val_loss_rec, label='validation')\n",
        "    plt.legend(loc='upper right')\n",
        "    plt.title('Loss over Epochs')\n",
        "    plt.xlabel('Epoch')\n",
        "    plt.ylabel('Loss')\n",
        "    plt.show(config['exp_dir'] + 'loss_plot.png')\n",
        "    plt.close()\n",
        "\n",
        "print('Training has concluded.')"
      ],
      "execution_count": null,
      "outputs": []
    },
    {
      "cell_type": "markdown",
      "metadata": {
        "id": "OFNoXumcPzBf"
      },
      "source": [
        "Overfitting begins to occur at approximately the 3rd epoch"
      ]
    },
    {
      "cell_type": "markdown",
      "metadata": {
        "id": "wQ2Rg_cXQ9w4"
      },
      "source": [
        "# **New Parameters for Learning**"
      ]
    },
    {
      "cell_type": "code",
      "metadata": {
        "id": "-zI5ONiq9IMH"
      },
      "source": [
        "####################\n",
        "# ## PARAMETERS ## #\n",
        "####################\n",
        "\n",
        "# dictionary for experiment parameters\n",
        "# can access using []. for examples, config['num_epochs']\n",
        "config = {\n",
        "    # foler to save results\n",
        "    'exp_dir': COLAB_PATH + 'final_3/',\n",
        "\n",
        "    # number of epochs (one epoch is one sweep through all training images, in a random order of batches)\n",
        "    'num_epochs': 3,\n",
        "\n",
        "    # batch size (number of images to use for each stochastic gradient learning iteration)\n",
        "    'batch_size': 32\n",
        "}"
      ],
      "execution_count": 78,
      "outputs": []
    },
    {
      "cell_type": "markdown",
      "metadata": {
        "id": "DGcpofMdRu7Z"
      },
      "source": [
        "# **Early Stopping Neural Network**"
      ]
    },
    {
      "cell_type": "code",
      "metadata": {
        "colab": {
          "base_uri": "https://localhost:8080/",
          "height": 1000
        },
        "id": "MBqUrbf7RDkr",
        "outputId": "385795d2-0c60-4be4-e7a7-b8bc85a870b2"
      },
      "source": [
        "# make folder to save dataset\n",
        "if not os.path.exists(config['exp_dir']):\n",
        "    os.makedirs(config['exp_dir'])\n",
        "\n",
        "print('Setting up network and optimizer...')\n",
        "# network structure and weight init, put network on gpu with .cuda()\n",
        "clf = ClfBank().cuda()\n",
        "print(clf)\n",
        "\n",
        "# initialize optim\n",
        "# Adam optimizer is a widely used variant of SGD that scales learning rates for each parameter\n",
        "# 1e-4 is good default value for the learning rate\n",
        "optim = t.optim.Adam(clf.parameters(), lr=1e-4)\n",
        "\n",
        "# loss criterion for logits\n",
        "# maximum likelihood estimate for modeling categorical data y, the labels of the images\n",
        "criterion = nn.CrossEntropyLoss()\n",
        "\n",
        "\n",
        "###############################################\n",
        "# ## FUNCTIONS FOR TRAIN AND TEST ## #\n",
        "###############################################\n",
        "\n",
        "# train model for single epoch through data\n",
        "def train(epoch):\n",
        "    # put the classifier in train mode\n",
        "    # this unfreezes the BatchNorm layers to adapt to the data and new weights\n",
        "    clf.train()\n",
        "\n",
        "    # records for this epoch\n",
        "    train_loss = 0\n",
        "    correct = 0\n",
        "    total = 0\n",
        "\n",
        "    # shuffle the training data\n",
        "    rand_inds = np.random.permutation(np.arange(bank_feat_train.shape[0]))\n",
        "    feat_shuffle = bank_feat_train[rand_inds]\n",
        "    resp_shuffle = bank_resp_train[rand_inds]\n",
        "\n",
        "    # loop over batches of data\n",
        "    for batch in range(math.ceil(float(bank_feat_train.shape[0]) / float(config['batch_size']))):\n",
        "        # put states on gpu\n",
        "        X_cpu = feat_shuffle[(batch*config['batch_size']):min((batch+1)*config['batch_size'], bank_feat_train.shape[0])]\n",
        "        X_train = t.Tensor(X_cpu).cuda()\n",
        "        y_cpu = resp_shuffle[(batch*config['batch_size']):min((batch+1)*config['batch_size'], bank_feat_train.shape[0])]\n",
        "        y_train = t.Tensor(y_cpu).long().cuda()\n",
        "\n",
        "        # logits for prediction and loss for weight update \n",
        "        # forward pass through network\n",
        "        logits = clf.forward(X_train)\n",
        "        # compare network output to true 1-hot encodings from y\n",
        "        loss = criterion(logits, y_train)\n",
        "\n",
        "        # update classifier weights\n",
        "        # first reset the gradient in the optimizer to 0 (don't forget to use this step before doing a backward pass)\n",
        "        optim.zero_grad()\n",
        "        # backward pass\n",
        "        loss.backward()\n",
        "        # use the optimizer to update the network weights\n",
        "        optim.step()\n",
        "\n",
        "        # record batch info\n",
        "        # cross entropy loss that is being minimized\n",
        "        train_loss += loss.item()\n",
        "        # predictions for class (the index that maximizes the probability/minimizes the logits)\n",
        "        _, y_pred = t.max(logits.detach(), 1)\n",
        "        # update number of correct predictions\n",
        "        correct += t.eq(y_pred, y_train).sum().cpu()\n",
        "        # update total number of predictions\n",
        "        total += y_train.nelement()\n",
        "\n",
        "    # get accuracy and loss for the epoch\n",
        "    train_acc = 100 * float(correct) / float(total)\n",
        "    train_loss = train_loss / (batch+1)\n",
        "\n",
        "    return train_acc, train_loss\n",
        "\n",
        "# test model on withheld data\n",
        "def test(epoch):\n",
        "    # put the classifier in eval mode\n",
        "    # this freezes the BatchNorm layers give deterministic output\n",
        "    clf.eval()\n",
        "\n",
        "    # records for this epoch\n",
        "    test_loss = 0\n",
        "    correct = 0\n",
        "    total = 0\n",
        "\n",
        "    # loop over batches of test data\n",
        "    for batch in range(math.ceil(float(bank_feat_test.shape[0]) / float(config['batch_size']))):\n",
        "        # put states on gpu\n",
        "        X_cpu = bank_feat_test[(batch*config['batch_size']):min((batch+1)*config['batch_size'], bank_feat_test.shape[0])]\n",
        "        X_test = t.Tensor(X_cpu).cuda()\n",
        "        y_cpu = bank_resp_test[(batch*config['batch_size']):min((batch+1)*config['batch_size'], bank_feat_test.shape[0])]\n",
        "        y_test = t.Tensor(y_cpu).long().cuda()\n",
        "\n",
        "        # check test images\n",
        "        with t.no_grad():\n",
        "\n",
        "            # forward pass and get loss\n",
        "            logits = clf(X_test)\n",
        "            loss = criterion(logits, y_test)\n",
        "\n",
        "            # record batch info (same as before)\n",
        "            test_loss += loss.item()\n",
        "            _, y_pred = t.max(logits, 1)\n",
        "            correct += t.eq(y_pred, y_test).sum().cpu()\n",
        "            total += y_test.nelement()\n",
        "\n",
        "    # get and print test accuracy\n",
        "    test_acc = 100 * float(correct) / float(total)\n",
        "    test_loss = test_loss / (batch+1)\n",
        "\n",
        "    return test_acc, test_loss\n",
        "\n",
        "\n",
        "#######################\n",
        "# ## LEARNING LOOP # ##\n",
        "#######################\n",
        "\n",
        "# empty list for plotting results\n",
        "tr_acc_rec = []\n",
        "tr_loss_rec = []\n",
        "val_acc_rec = []\n",
        "val_loss_rec = []\n",
        "\n",
        "print('\\nTraining has begun.')\n",
        "for epoch in range(config['num_epochs']):\n",
        "    print('Epoch {} of {}'.format(epoch+1, config['num_epochs']))\n",
        "\n",
        "    # update model using train data\n",
        "    tr_acc, tr_loss = train(epoch)\n",
        "    # update record\n",
        "    tr_acc_rec += [tr_acc]\n",
        "    tr_loss_rec += [tr_loss]\n",
        "\n",
        "    # evaluate test data\n",
        "    val_acc, val_loss = test(epoch)\n",
        "    # update record\n",
        "    val_acc_rec += [val_acc]\n",
        "    val_loss_rec += [val_loss]\n",
        "\n",
        "    # save network weights checkpoint\n",
        "    t.save(clf.state_dict(), config['exp_dir'] + 'clf.pth')\n",
        "    # save optim\n",
        "    t.save(optim.state_dict(), config['exp_dir'] + 'optim.pth')\n",
        "\n",
        "    # save accuracy plot for training and testing data\n",
        "    plt.plot(list(range(1, epoch+2)), tr_acc_rec, label='training data')\n",
        "    plt.plot(list(range(1, epoch+2)), val_acc_rec, label='validation')\n",
        "    plt.legend(loc='lower right')\n",
        "    plt.title('Accuracy over Epochs')\n",
        "    plt.xlabel('Epoch')\n",
        "    plt.ylabel('Accuracy')\n",
        "    plt.show(config['exp_dir'] + 'acc_plot.png')\n",
        "    plt.close()\n",
        "\n",
        "    # save loss plot for training and testing data\n",
        "    plt.plot(list(range(1, epoch+2)), tr_loss_rec, label='training data')\n",
        "    plt.plot(list(range(1, epoch+2)), val_loss_rec, label='validation')\n",
        "    plt.legend(loc='upper right')\n",
        "    plt.title('Loss over Epochs')\n",
        "    plt.xlabel('Epoch')\n",
        "    plt.ylabel('Loss')\n",
        "    plt.show(config['exp_dir'] + 'loss_plot.png')\n",
        "    plt.close()\n",
        "\n",
        "print('Training has concluded.')"
      ],
      "execution_count": 79,
      "outputs": [
        {
          "output_type": "stream",
          "text": [
            "Setting up network and optimizer...\n",
            "ClfBank(\n",
            "  (fc1): Linear(in_features=42, out_features=200, bias=True)\n",
            "  (fc2): Linear(in_features=200, out_features=75, bias=True)\n",
            "  (fc3): Linear(in_features=75, out_features=2, bias=True)\n",
            "  (bn_fc1): BatchNorm1d(200, eps=1e-05, momentum=0.1, affine=True, track_running_stats=True)\n",
            "  (bn_fc2): BatchNorm1d(75, eps=1e-05, momentum=0.1, affine=True, track_running_stats=True)\n",
            "  (model_fc): Sequential(\n",
            "    (0): Linear(in_features=42, out_features=200, bias=True)\n",
            "    (1): BatchNorm1d(200, eps=1e-05, momentum=0.1, affine=True, track_running_stats=True)\n",
            "    (2): ReLU()\n",
            "    (3): Linear(in_features=200, out_features=75, bias=True)\n",
            "    (4): BatchNorm1d(75, eps=1e-05, momentum=0.1, affine=True, track_running_stats=True)\n",
            "    (5): ReLU()\n",
            "    (6): Linear(in_features=75, out_features=2, bias=True)\n",
            "  )\n",
            ")\n",
            "\n",
            "Training has begun.\n",
            "Epoch 1 of 3\n"
          ],
          "name": "stdout"
        },
        {
          "output_type": "display_data",
          "data": {
            "image/png": "[encoded data removed]",
            "text/plain": [
              "<Figure size 432x288 with 1 Axes>"
            ]
          },
          "metadata": {
            "tags": [],
            "needs_background": "light"
          }
        },
        {
          "output_type": "display_data",
          "data": {
            "image/png": "[encoded data removed]",
            "text/plain": [
              "<Figure size 432x288 with 1 Axes>"
            ]
          },
          "metadata": {
            "tags": [],
            "needs_background": "light"
          }
        },
        {
          "output_type": "stream",
          "text": [
            "Epoch 2 of 3\n"
          ],
          "name": "stdout"
        },
        {
          "output_type": "display_data",
          "data": {
            "image/png": "[encoded data removed]",
            "text/plain": [
              "<Figure size 432x288 with 1 Axes>"
            ]
          },
          "metadata": {
            "tags": [],
            "needs_background": "light"
          }
        },
        {
          "output_type": "display_data",
          "data": {
            "image/png": "[encoded data removed]",
            "text/plain": [
              "<Figure size 432x288 with 1 Axes>"
            ]
          },
          "metadata": {
            "tags": [],
            "needs_background": "light"
          }
        },
        {
          "output_type": "stream",
          "text": [
            "Epoch 3 of 3\n"
          ],
          "name": "stdout"
        },
        {
          "output_type": "display_data",
          "data": {
            "image/png": "[encoded data removed]",
            "text/plain": [
              "<Figure size 432x288 with 1 Axes>"
            ]
          },
          "metadata": {
            "tags": [],
            "needs_background": "light"
          }
        },
        {
          "output_type": "display_data",
          "data": {
            "image/png": "[encoded data removed]",
            "text/plain": [
              "<Figure size 432x288 with 1 Axes>"
            ]
          },
          "metadata": {
            "tags": [],
            "needs_background": "light"
          }
        },
        {
          "output_type": "stream",
          "text": [
            "Training has concluded.\n"
          ],
          "name": "stdout"
        }
      ]
    },
    {
      "cell_type": "markdown",
      "metadata": {
        "id": "K5kJmfD2R3_s"
      },
      "source": [
        "# **ROC Curve and AUC for Training Data**"
      ]
    },
    {
      "cell_type": "code",
      "metadata": {
        "colab": {
          "base_uri": "https://localhost:8080/",
          "height": 312
        },
        "id": "da2IxZ8hSF7q",
        "outputId": "bda2193f-0592-4b29-9c81-dbd7b3495b0c"
      },
      "source": [
        "# make roc curve\n",
        "from sklearn.metrics import roc_curve, auc\n",
        "\n",
        "# predict probabilities for test data\n",
        "# torch.no_grad() removes states from computational graph (use when no gradient is needed to save memory and time)\n",
        "with t.no_grad():\n",
        "    probs = F.softmax(clf.forward(t.Tensor(bank_feat_train).cuda()), dim=1)\n",
        "# move to cpu then to numpy\n",
        "probs = probs.cpu().numpy()\n",
        "fpr, tpr, _ = roc_curve(bank_resp_train, probs[:,1])\n",
        "auc_nn = auc(fpr, tpr)\n",
        "\n",
        "# plot the info\n",
        "plt.plot(fpr, tpr, label='AUC: {0:0.2f}'.format(auc_nn))\n",
        "plt.xlabel('False Positive Rate')\n",
        "plt.ylabel('True Positive Rate')\n",
        "plt.title('ROC for Neural Network on Bank Data (Training Set')\n",
        "plt.legend(loc='lower right')"
      ],
      "execution_count": 75,
      "outputs": [
        {
          "output_type": "execute_result",
          "data": {
            "text/plain": [
              "<matplotlib.legend.Legend at 0x7fd950179588>"
            ]
          },
          "metadata": {
            "tags": []
          },
          "execution_count": 75
        },
        {
          "output_type": "display_data",
          "data": {
            "image/png": "[encoded data removed]",
            "text/plain": [
              "<Figure size 432x288 with 1 Axes>"
            ]
          },
          "metadata": {
            "tags": [],
            "needs_background": "light"
          }
        }
      ]
    },
    {
      "cell_type": "markdown",
      "metadata": {
        "id": "BfgfcxzQShct"
      },
      "source": [
        "# **ROC Curve and AUC for Test Data**"
      ]
    },
    {
      "cell_type": "code",
      "metadata": {
        "colab": {
          "base_uri": "https://localhost:8080/",
          "height": 312
        },
        "id": "KUcfXvXdSn1q",
        "outputId": "8b333bb5-0760-4dca-ec35-e7244aaf0249"
      },
      "source": [
        "# make roc curve\n",
        "from sklearn.metrics import roc_curve, auc\n",
        "\n",
        "# predict probabilities for test data\n",
        "# torch.no_grad() removes states from computational graph (use when no gradient is needed to save memory and time)\n",
        "with t.no_grad():\n",
        "    probs = F.softmax(clf.forward(t.Tensor(bank_feat_test).cuda()), dim=1)\n",
        "# move to cpu then to numpy\n",
        "probs = probs.cpu().numpy()\n",
        "fpr, tpr, _ = roc_curve(bank_resp_test, probs[:,1])\n",
        "auc_nn = auc(fpr, tpr)\n",
        "\n",
        "# plot the info\n",
        "plt.plot(fpr, tpr, label='AUC: {0:0.2f}'.format(auc_nn))\n",
        "plt.xlabel('False Positive Rate')\n",
        "plt.ylabel('True Positive Rate')\n",
        "plt.title('ROC for Neural Network on Bank Data (Training Set')\n",
        "plt.legend(loc='lower right')"
      ],
      "execution_count": 76,
      "outputs": [
        {
          "output_type": "execute_result",
          "data": {
            "text/plain": [
              "<matplotlib.legend.Legend at 0x7fd94f667eb8>"
            ]
          },
          "metadata": {
            "tags": []
          },
          "execution_count": 76
        },
        {
          "output_type": "display_data",
          "data": {
            "image/png": "[encoded data removed]",
            "text/plain": [
              "<Figure size 432x288 with 1 Axes>"
            ]
          },
          "metadata": {
            "tags": [],
            "needs_background": "light"
          }
        }
      ]
    },
    {
      "cell_type": "markdown",
      "metadata": {
        "id": "-24kcamBSyfL"
      },
      "source": [
        "There is noticeable overfitting on the training data but not to a severe extent"
      ]
    }
  ]
}